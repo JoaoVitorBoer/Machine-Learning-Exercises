{
 "cells": [
  {
   "cell_type": "code",
   "execution_count": 1,
   "id": "9357ac47",
   "metadata": {},
   "outputs": [],
   "source": [
    "import numpy as np\n",
    "import pandas as pd\n",
    "import matplotlib.pyplot as plt\n",
    "from sklearn.model_selection import train_test_split\n",
    "from sklearn.pipeline import *\n",
    "from sklearn.preprocessing import *\n",
    "from sklearn.linear_model import LogisticRegression\n",
    "from sklearn.tree import DecisionTreeClassifier\n",
    "from sklearn.neighbors import KNeighborsClassifier\n",
    "from sklearn.discriminant_analysis import LinearDiscriminantAnalysis\n",
    "from sklearn.ensemble import RandomForestClassifier\n",
    "from sklearn.svm import SVC\n",
    "from sklearn.metrics import *\n",
    "from sklearn.impute import *\n",
    "from sklearn.base import *\n",
    "from sklearn.compose import *\n",
    "from plotnine import *\n",
    "import pickle\n",
    "from yellowbrick.model_selection import FeatureImportances"
   ]
  },
  {
   "cell_type": "code",
   "execution_count": 2,
   "id": "eb778020",
   "metadata": {},
   "outputs": [
    {
     "data": {
      "text/html": [
       "<div>\n",
       "<style scoped>\n",
       "    .dataframe tbody tr th:only-of-type {\n",
       "        vertical-align: middle;\n",
       "    }\n",
       "\n",
       "    .dataframe tbody tr th {\n",
       "        vertical-align: top;\n",
       "    }\n",
       "\n",
       "    .dataframe thead th {\n",
       "        text-align: right;\n",
       "    }\n",
       "</style>\n",
       "<table border=\"1\" class=\"dataframe\">\n",
       "  <thead>\n",
       "    <tr style=\"text-align: right;\">\n",
       "      <th></th>\n",
       "      <th>Pregnancies</th>\n",
       "      <th>Glucose</th>\n",
       "      <th>BloodPressure</th>\n",
       "      <th>SkinThickness</th>\n",
       "      <th>Insulin</th>\n",
       "      <th>BMI</th>\n",
       "      <th>DiabetesPedigreeFunction</th>\n",
       "      <th>Age</th>\n",
       "      <th>Outcome</th>\n",
       "    </tr>\n",
       "  </thead>\n",
       "  <tbody>\n",
       "    <tr>\n",
       "      <th>0</th>\n",
       "      <td>6</td>\n",
       "      <td>148</td>\n",
       "      <td>72</td>\n",
       "      <td>35</td>\n",
       "      <td>0</td>\n",
       "      <td>33.6</td>\n",
       "      <td>0.627</td>\n",
       "      <td>50</td>\n",
       "      <td>1</td>\n",
       "    </tr>\n",
       "    <tr>\n",
       "      <th>1</th>\n",
       "      <td>1</td>\n",
       "      <td>85</td>\n",
       "      <td>66</td>\n",
       "      <td>29</td>\n",
       "      <td>0</td>\n",
       "      <td>26.6</td>\n",
       "      <td>0.351</td>\n",
       "      <td>31</td>\n",
       "      <td>0</td>\n",
       "    </tr>\n",
       "    <tr>\n",
       "      <th>2</th>\n",
       "      <td>8</td>\n",
       "      <td>183</td>\n",
       "      <td>64</td>\n",
       "      <td>0</td>\n",
       "      <td>0</td>\n",
       "      <td>23.3</td>\n",
       "      <td>0.672</td>\n",
       "      <td>32</td>\n",
       "      <td>1</td>\n",
       "    </tr>\n",
       "    <tr>\n",
       "      <th>3</th>\n",
       "      <td>1</td>\n",
       "      <td>89</td>\n",
       "      <td>66</td>\n",
       "      <td>23</td>\n",
       "      <td>94</td>\n",
       "      <td>28.1</td>\n",
       "      <td>0.167</td>\n",
       "      <td>21</td>\n",
       "      <td>0</td>\n",
       "    </tr>\n",
       "    <tr>\n",
       "      <th>4</th>\n",
       "      <td>0</td>\n",
       "      <td>137</td>\n",
       "      <td>40</td>\n",
       "      <td>35</td>\n",
       "      <td>168</td>\n",
       "      <td>43.1</td>\n",
       "      <td>2.288</td>\n",
       "      <td>33</td>\n",
       "      <td>1</td>\n",
       "    </tr>\n",
       "    <tr>\n",
       "      <th>...</th>\n",
       "      <td>...</td>\n",
       "      <td>...</td>\n",
       "      <td>...</td>\n",
       "      <td>...</td>\n",
       "      <td>...</td>\n",
       "      <td>...</td>\n",
       "      <td>...</td>\n",
       "      <td>...</td>\n",
       "      <td>...</td>\n",
       "    </tr>\n",
       "    <tr>\n",
       "      <th>763</th>\n",
       "      <td>10</td>\n",
       "      <td>101</td>\n",
       "      <td>76</td>\n",
       "      <td>48</td>\n",
       "      <td>180</td>\n",
       "      <td>32.9</td>\n",
       "      <td>0.171</td>\n",
       "      <td>63</td>\n",
       "      <td>0</td>\n",
       "    </tr>\n",
       "    <tr>\n",
       "      <th>764</th>\n",
       "      <td>2</td>\n",
       "      <td>122</td>\n",
       "      <td>70</td>\n",
       "      <td>27</td>\n",
       "      <td>0</td>\n",
       "      <td>36.8</td>\n",
       "      <td>0.340</td>\n",
       "      <td>27</td>\n",
       "      <td>0</td>\n",
       "    </tr>\n",
       "    <tr>\n",
       "      <th>765</th>\n",
       "      <td>5</td>\n",
       "      <td>121</td>\n",
       "      <td>72</td>\n",
       "      <td>23</td>\n",
       "      <td>112</td>\n",
       "      <td>26.2</td>\n",
       "      <td>0.245</td>\n",
       "      <td>30</td>\n",
       "      <td>0</td>\n",
       "    </tr>\n",
       "    <tr>\n",
       "      <th>766</th>\n",
       "      <td>1</td>\n",
       "      <td>126</td>\n",
       "      <td>60</td>\n",
       "      <td>0</td>\n",
       "      <td>0</td>\n",
       "      <td>30.1</td>\n",
       "      <td>0.349</td>\n",
       "      <td>47</td>\n",
       "      <td>1</td>\n",
       "    </tr>\n",
       "    <tr>\n",
       "      <th>767</th>\n",
       "      <td>1</td>\n",
       "      <td>93</td>\n",
       "      <td>70</td>\n",
       "      <td>31</td>\n",
       "      <td>0</td>\n",
       "      <td>30.4</td>\n",
       "      <td>0.315</td>\n",
       "      <td>23</td>\n",
       "      <td>0</td>\n",
       "    </tr>\n",
       "  </tbody>\n",
       "</table>\n",
       "<p>768 rows × 9 columns</p>\n",
       "</div>"
      ],
      "text/plain": [
       "     Pregnancies  Glucose  BloodPressure  SkinThickness  Insulin   BMI  \\\n",
       "0              6      148             72             35        0  33.6   \n",
       "1              1       85             66             29        0  26.6   \n",
       "2              8      183             64              0        0  23.3   \n",
       "3              1       89             66             23       94  28.1   \n",
       "4              0      137             40             35      168  43.1   \n",
       "..           ...      ...            ...            ...      ...   ...   \n",
       "763           10      101             76             48      180  32.9   \n",
       "764            2      122             70             27        0  36.8   \n",
       "765            5      121             72             23      112  26.2   \n",
       "766            1      126             60              0        0  30.1   \n",
       "767            1       93             70             31        0  30.4   \n",
       "\n",
       "     DiabetesPedigreeFunction  Age  Outcome  \n",
       "0                       0.627   50        1  \n",
       "1                       0.351   31        0  \n",
       "2                       0.672   32        1  \n",
       "3                       0.167   21        0  \n",
       "4                       2.288   33        1  \n",
       "..                        ...  ...      ...  \n",
       "763                     0.171   63        0  \n",
       "764                     0.340   27        0  \n",
       "765                     0.245   30        0  \n",
       "766                     0.349   47        1  \n",
       "767                     0.315   23        0  \n",
       "\n",
       "[768 rows x 9 columns]"
      ]
     },
     "execution_count": 2,
     "metadata": {},
     "output_type": "execute_result"
    }
   ],
   "source": [
    "df = pd.read_csv(r'https://raw.githubusercontent.com/JoaoVitorBoer/Machine-Learning/main/Datasets/dataset3.csv')\n",
    "df"
   ]
  },
  {
   "cell_type": "code",
   "execution_count": 3,
   "id": "d2bd74bc",
   "metadata": {},
   "outputs": [],
   "source": [
    "total  = df.groupby(['Outcome']).agg( n = ('Outcome','count')).reset_index()\n",
    "total['perc'] = 100*total['n']/total['n'].sum()"
   ]
  },
  {
   "cell_type": "code",
   "execution_count": 4,
   "id": "f0f305cb",
   "metadata": {},
   "outputs": [
    {
     "data": {
      "text/html": [
       "<div>\n",
       "<style scoped>\n",
       "    .dataframe tbody tr th:only-of-type {\n",
       "        vertical-align: middle;\n",
       "    }\n",
       "\n",
       "    .dataframe tbody tr th {\n",
       "        vertical-align: top;\n",
       "    }\n",
       "\n",
       "    .dataframe thead th {\n",
       "        text-align: right;\n",
       "    }\n",
       "</style>\n",
       "<table border=\"1\" class=\"dataframe\">\n",
       "  <thead>\n",
       "    <tr style=\"text-align: right;\">\n",
       "      <th></th>\n",
       "      <th>Outcome</th>\n",
       "      <th>n</th>\n",
       "      <th>perc</th>\n",
       "    </tr>\n",
       "  </thead>\n",
       "  <tbody>\n",
       "    <tr>\n",
       "      <th>0</th>\n",
       "      <td>0</td>\n",
       "      <td>500</td>\n",
       "      <td>65.104167</td>\n",
       "    </tr>\n",
       "    <tr>\n",
       "      <th>1</th>\n",
       "      <td>1</td>\n",
       "      <td>268</td>\n",
       "      <td>34.895833</td>\n",
       "    </tr>\n",
       "  </tbody>\n",
       "</table>\n",
       "</div>"
      ],
      "text/plain": [
       "   Outcome    n       perc\n",
       "0        0  500  65.104167\n",
       "1        1  268  34.895833"
      ]
     },
     "execution_count": 4,
     "metadata": {},
     "output_type": "execute_result"
    }
   ],
   "source": [
    "total"
   ]
  },
  {
   "cell_type": "markdown",
   "id": "2ef5cd5d",
   "metadata": {},
   "source": [
    "### Outliers"
   ]
  },
  {
   "cell_type": "code",
   "execution_count": 5,
   "id": "e3438a72",
   "metadata": {},
   "outputs": [
    {
     "data": {
      "text/plain": [
       "<AxesSubplot:>"
      ]
     },
     "execution_count": 5,
     "metadata": {},
     "output_type": "execute_result"
    },
    {
     "data": {
      "image/png": "[encoded data removed]",
      "text/plain": [
       "<Figure size 432x288 with 1 Axes>"
      ]
     },
     "metadata": {
      "needs_background": "light"
     },
     "output_type": "display_data"
    }
   ],
   "source": [
    "df[['BloodPressure']].boxplot()"
   ]
  },
  {
   "cell_type": "markdown",
   "id": "da976fe8",
   "metadata": {},
   "source": [
    "### Target e feature"
   ]
  },
  {
   "cell_type": "code",
   "execution_count": 6,
   "id": "a5cba76d",
   "metadata": {},
   "outputs": [],
   "source": [
    "X = df.drop(columns = ['Outcome'])\n",
    "y = df['Outcome']"
   ]
  },
  {
   "cell_type": "markdown",
   "id": "fa09304c",
   "metadata": {},
   "source": [
    "### Separar em treino e teste"
   ]
  },
  {
   "cell_type": "code",
   "execution_count": 7,
   "id": "8fb5b361",
   "metadata": {},
   "outputs": [],
   "source": [
    "X_train, X_test, y_train, y_test = train_test_split(X, y, test_size=0.33, random_state=42)"
   ]
  },
  {
   "cell_type": "markdown",
   "id": "143fbdd6",
   "metadata": {},
   "source": [
    "### Tratar NaN\n",
    "\n",
    "Se existir..."
   ]
  },
  {
   "cell_type": "code",
   "execution_count": 8,
   "id": "f3685961",
   "metadata": {},
   "outputs": [
    {
     "data": {
      "text/html": [
       "<div>\n",
       "<style scoped>\n",
       "    .dataframe tbody tr th:only-of-type {\n",
       "        vertical-align: middle;\n",
       "    }\n",
       "\n",
       "    .dataframe tbody tr th {\n",
       "        vertical-align: top;\n",
       "    }\n",
       "\n",
       "    .dataframe thead th {\n",
       "        text-align: right;\n",
       "    }\n",
       "</style>\n",
       "<table border=\"1\" class=\"dataframe\">\n",
       "  <thead>\n",
       "    <tr style=\"text-align: right;\">\n",
       "      <th></th>\n",
       "      <th>0</th>\n",
       "    </tr>\n",
       "  </thead>\n",
       "  <tbody>\n",
       "    <tr>\n",
       "      <th>Pregnancies</th>\n",
       "      <td>0</td>\n",
       "    </tr>\n",
       "    <tr>\n",
       "      <th>Glucose</th>\n",
       "      <td>0</td>\n",
       "    </tr>\n",
       "    <tr>\n",
       "      <th>BloodPressure</th>\n",
       "      <td>0</td>\n",
       "    </tr>\n",
       "    <tr>\n",
       "      <th>SkinThickness</th>\n",
       "      <td>0</td>\n",
       "    </tr>\n",
       "    <tr>\n",
       "      <th>Insulin</th>\n",
       "      <td>0</td>\n",
       "    </tr>\n",
       "    <tr>\n",
       "      <th>BMI</th>\n",
       "      <td>0</td>\n",
       "    </tr>\n",
       "    <tr>\n",
       "      <th>DiabetesPedigreeFunction</th>\n",
       "      <td>0</td>\n",
       "    </tr>\n",
       "    <tr>\n",
       "      <th>Age</th>\n",
       "      <td>0</td>\n",
       "    </tr>\n",
       "    <tr>\n",
       "      <th>Outcome</th>\n",
       "      <td>0</td>\n",
       "    </tr>\n",
       "  </tbody>\n",
       "</table>\n",
       "</div>"
      ],
      "text/plain": [
       "                          0\n",
       "Pregnancies               0\n",
       "Glucose                   0\n",
       "BloodPressure             0\n",
       "SkinThickness             0\n",
       "Insulin                   0\n",
       "BMI                       0\n",
       "DiabetesPedigreeFunction  0\n",
       "Age                       0\n",
       "Outcome                   0"
      ]
     },
     "execution_count": 8,
     "metadata": {},
     "output_type": "execute_result"
    }
   ],
   "source": [
    "df.isna().sum().to_frame()"
   ]
  },
  {
   "cell_type": "markdown",
   "id": "723bced2",
   "metadata": {},
   "source": [
    "## Tratar variavies numéricas com medidas diferentes"
   ]
  },
  {
   "cell_type": "code",
   "execution_count": 9,
   "id": "25a3d353",
   "metadata": {},
   "outputs": [],
   "source": [
    "numeric_transformer = make_pipeline(SimpleImputer(strategy='median', missing_values = np.nan),\n",
    "                                    MinMaxScaler())"
   ]
  },
  {
   "cell_type": "code",
   "execution_count": 10,
   "id": "f1970bae",
   "metadata": {},
   "outputs": [
    {
     "data": {
      "text/plain": [
       "Index(['Pregnancies', 'Glucose', 'BloodPressure', 'SkinThickness', 'Insulin',\n",
       "       'BMI', 'DiabetesPedigreeFunction', 'Age', 'Outcome'],\n",
       "      dtype='object')"
      ]
     },
     "execution_count": 10,
     "metadata": {},
     "output_type": "execute_result"
    }
   ],
   "source": [
    "df.columns"
   ]
  },
  {
   "cell_type": "code",
   "execution_count": 11,
   "id": "b8d8a885",
   "metadata": {},
   "outputs": [],
   "source": [
    "preprocessor = make_column_transformer(\n",
    "    (numeric_transformer, ['Pregnancies', \n",
    "                           'Glucose', \n",
    "                           'BloodPressure', \n",
    "                           'SkinThickness', \n",
    "                           'Insulin',\n",
    "                           'BMI', \n",
    "                           'DiabetesPedigreeFunction', \n",
    "                           'Age']))"
   ]
  },
  {
   "cell_type": "code",
   "execution_count": 12,
   "id": "e5af0263",
   "metadata": {},
   "outputs": [],
   "source": [
    "LR = make_pipeline(preprocessor,LogisticRegression(solver='lbfgs', max_iter=1000)).fit(X_train, y_train)\n",
    "LDA = make_pipeline(preprocessor,LinearDiscriminantAnalysis()).fit(X_train, y_train)\n",
    "CART = make_pipeline(preprocessor,DecisionTreeClassifier()).fit(X_train, y_train)\n",
    "KNN = make_pipeline(preprocessor,KNeighborsClassifier()).fit(X_train, y_train)\n",
    "SVM = make_pipeline(preprocessor,SVC(probability=True)).fit(X_train,y_train) \n",
    "RF = make_pipeline(preprocessor,RandomForestClassifier()).fit(X_train,y_train) "
   ]
  },
  {
   "cell_type": "markdown",
   "id": "0f7f51cd",
   "metadata": {},
   "source": [
    "# Acuracia do Treino"
   ]
  },
  {
   "cell_type": "code",
   "execution_count": 13,
   "id": "13d7276d",
   "metadata": {},
   "outputs": [
    {
     "name": "stdout",
     "output_type": "stream",
     "text": [
      "Acurácia treino LR: 0.7665369649805448 \n",
      "\n",
      "Acurácia treino LDA: 0.7782101167315175 \n",
      "\n",
      "Acurácia treino CART: 1.0 \n",
      "\n",
      "Acurácia treino KNN: 0.8365758754863813 \n",
      "\n",
      "Acurácia treino SVM: 0.7976653696498055 \n",
      "\n",
      "Acurácia treino RF: 1.0 \n",
      "\n"
     ]
    }
   ],
   "source": [
    "print(\"Acurácia treino LR:\", LR.score(X_train,y_train), \"\\n\")\n",
    "print(\"Acurácia treino LDA:\", LDA.score(X_train,y_train), \"\\n\")\n",
    "print(\"Acurácia treino CART:\", CART.score(X_train,y_train), \"\\n\")\n",
    "print(\"Acurácia treino KNN:\", KNN.score(X_train,y_train), \"\\n\")\n",
    "print(\"Acurácia treino SVM:\", SVM.score(X_train,y_train), \"\\n\")\n",
    "print(\"Acurácia treino RF:\", RF.score(X_train,y_train), \"\\n\")"
   ]
  },
  {
   "cell_type": "markdown",
   "id": "ee2004ad",
   "metadata": {},
   "source": [
    "## Confusion Matrix"
   ]
  },
  {
   "cell_type": "code",
   "execution_count": 14,
   "id": "79c47c19",
   "metadata": {},
   "outputs": [
    {
     "data": {
      "image/png": "[encoded data removed]",
      "text/plain": [
       "<Figure size 800x550 with 2 Axes>"
      ]
     },
     "metadata": {},
     "output_type": "display_data"
    }
   ],
   "source": [
    "ConfusionMatrixDisplay.from_estimator(LR, X_train,y_train)\n",
    "plt.show()"
   ]
  },
  {
   "cell_type": "markdown",
   "id": "d05fb38c",
   "metadata": {},
   "source": [
    "## Acuracia, Precision e Recall do Treino"
   ]
  },
  {
   "cell_type": "code",
   "execution_count": 15,
   "id": "4d6591e2",
   "metadata": {},
   "outputs": [
    {
     "data": {
      "text/html": [
       "<div>\n",
       "<style scoped>\n",
       "    .dataframe tbody tr th:only-of-type {\n",
       "        vertical-align: middle;\n",
       "    }\n",
       "\n",
       "    .dataframe tbody tr th {\n",
       "        vertical-align: top;\n",
       "    }\n",
       "\n",
       "    .dataframe thead th {\n",
       "        text-align: right;\n",
       "    }\n",
       "</style>\n",
       "<table border=\"1\" class=\"dataframe\">\n",
       "  <thead>\n",
       "    <tr style=\"text-align: right;\">\n",
       "      <th></th>\n",
       "      <th>Accuracy</th>\n",
       "      <th>Precision</th>\n",
       "      <th>Recall</th>\n",
       "    </tr>\n",
       "  </thead>\n",
       "  <tbody>\n",
       "    <tr>\n",
       "      <th>LR</th>\n",
       "      <td>0.766537</td>\n",
       "      <td>0.773196</td>\n",
       "      <td>1.000000</td>\n",
       "    </tr>\n",
       "    <tr>\n",
       "      <th>LDA</th>\n",
       "      <td>0.778210</td>\n",
       "      <td>0.793011</td>\n",
       "      <td>0.888554</td>\n",
       "    </tr>\n",
       "    <tr>\n",
       "      <th>CART</th>\n",
       "      <td>1.000000</td>\n",
       "      <td>1.000000</td>\n",
       "      <td>1.000000</td>\n",
       "    </tr>\n",
       "    <tr>\n",
       "      <th>KNN</th>\n",
       "      <td>0.836576</td>\n",
       "      <td>0.840659</td>\n",
       "      <td>0.921687</td>\n",
       "    </tr>\n",
       "    <tr>\n",
       "      <th>SVM</th>\n",
       "      <td>0.797665</td>\n",
       "      <td>0.808108</td>\n",
       "      <td>0.900602</td>\n",
       "    </tr>\n",
       "    <tr>\n",
       "      <th>RF</th>\n",
       "      <td>1.000000</td>\n",
       "      <td>1.000000</td>\n",
       "      <td>1.000000</td>\n",
       "    </tr>\n",
       "  </tbody>\n",
       "</table>\n",
       "</div>"
      ],
      "text/plain": [
       "      Accuracy  Precision    Recall\n",
       "LR    0.766537   0.773196  1.000000\n",
       "LDA   0.778210   0.793011  0.888554\n",
       "CART  1.000000   1.000000  1.000000\n",
       "KNN   0.836576   0.840659  0.921687\n",
       "SVM   0.797665   0.808108  0.900602\n",
       "RF    1.000000   1.000000  1.000000"
      ]
     },
     "execution_count": 15,
     "metadata": {},
     "output_type": "execute_result"
    }
   ],
   "source": [
    "metricas = {'Accuracy':  [LR.score(X_train,y_train),\n",
    "                          LDA.score(X_train,y_train),\n",
    "                          CART.score(X_train,y_train),\n",
    "                          KNN.score(X_train,y_train),\n",
    "                          SVM.score(X_train,y_train),\n",
    "                          RF.score(X_train,y_train)],\n",
    "            'Precision': [precision_score(y_train, LR.predict(X_train), pos_label = 0),\n",
    "                          precision_score(y_train, LDA.predict(X_train), pos_label = 0),\n",
    "                          precision_score(y_train, CART.predict(X_train), pos_label = 0),\n",
    "                          precision_score(y_train, KNN.predict(X_train), pos_label = 0),\n",
    "                          precision_score(y_train, SVM.predict(X_train), pos_label = 0),\n",
    "                          precision_score(y_train, RF.predict(X_train), pos_label = 0)],\n",
    "            'Recall' :   [recall_score(y_train, RF.predict(X_train), pos_label = 0),\n",
    "                          recall_score(y_train, LDA.predict(X_train), pos_label = 0),\n",
    "                          recall_score(y_train, CART.predict(X_train), pos_label = 0),\n",
    "                          recall_score(y_train, KNN.predict(X_train), pos_label = 0),\n",
    "                          recall_score(y_train, SVM.predict(X_train), pos_label = 0),\n",
    "                          recall_score(y_train, RF.predict(X_train), pos_label = 0)]\n",
    "        }\n",
    "\n",
    "dados = pd.DataFrame(metricas, columns = ['Accuracy', 'Precision','Recall'], index=['LR','LDA','CART','KNN','SVM','RF'])\n",
    "\n",
    "dados"
   ]
  },
  {
   "cell_type": "markdown",
   "id": "9183a2d8",
   "metadata": {},
   "source": [
    "# Curva ROC"
   ]
  },
  {
   "cell_type": "code",
   "execution_count": 16,
   "id": "5830a60f",
   "metadata": {},
   "outputs": [
    {
     "data": {
      "image/png": "[encoded data removed]",
      "text/plain": [
       "<Figure size 800x550 with 1 Axes>"
      ]
     },
     "metadata": {},
     "output_type": "display_data"
    }
   ],
   "source": [
    " from sklearn.metrics import RocCurveDisplay\n",
    "RocCurveDisplay.from_estimator(LR, X_test, y_test,drop_intermediate=False,ax=plt.gca(), name = 'LR')\n",
    "RocCurveDisplay.from_estimator(LDA, X_test, y_test,drop_intermediate=False,ax=plt.gca(), name = 'LDA')\n",
    "RocCurveDisplay.from_estimator(CART, X_test, y_test,drop_intermediate=False,ax=plt.gca(), name = 'CART')\n",
    "RocCurveDisplay.from_estimator(KNN, X_test, y_test,drop_intermediate=False,ax=plt.gca(), name = 'KNN')\n",
    "RocCurveDisplay.from_estimator(SVM, X_test, y_test,drop_intermediate=False,ax=plt.gca(), name = 'SVM')\n",
    "RocCurveDisplay.from_estimator(RF, X_test, y_test,drop_intermediate=False,ax=plt.gca(), name = 'RF')\n",
    "\n",
    "plt.show()"
   ]
  },
  {
   "cell_type": "code",
   "execution_count": 18,
   "id": "180a7bda",
   "metadata": {},
   "outputs": [],
   "source": [
    "pickle.dump(LR, open('Modelo_Diabete.sav', 'wb'))"
   ]
  },
  {
   "cell_type": "code",
   "execution_count": 19,
   "id": "79c88d33",
   "metadata": {},
   "outputs": [],
   "source": [
    "loaded_model = pickle.load(open('Modelo_Diabete.sav', 'rb'))"
   ]
  },
  {
   "cell_type": "code",
   "execution_count": 20,
   "id": "f0ab8704",
   "metadata": {},
   "outputs": [
    {
     "name": "stdout",
     "output_type": "stream",
     "text": [
      "Acurácia teste LR: 0.7440944881889764\n",
      "Precision teste LR: 0.647887323943662\n",
      "Recall teste LR: 0.5348837209302325\n"
     ]
    }
   ],
   "source": [
    "print(\"Acurácia teste LR:\", loaded_model.score(X_test, y_test))\n",
    "print(\"Precision teste LR:\", precision_score(y_test, loaded_model.predict(X_test)))\n",
    "print(\"Recall teste LR:\", recall_score(y_test, loaded_model.predict(X_test)))"
   ]
  }
 ],
 "metadata": {
  "kernelspec": {
   "display_name": "Python 3",
   "language": "python",
   "name": "python3"
  },
  "language_info": {
   "codemirror_mode": {
    "name": "ipython",
    "version": 3
   },
   "file_extension": ".py",
   "mimetype": "text/x-python",
   "name": "python",
   "nbconvert_exporter": "python",
   "pygments_lexer": "ipython3",
   "version": "3.8.8"
  }
 },
 "nbformat": 4,
 "nbformat_minor": 5
}
